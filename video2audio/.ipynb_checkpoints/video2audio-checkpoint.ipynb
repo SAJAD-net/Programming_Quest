{
 "cells": [
  {
   "cell_type": "code",
   "execution_count": 19,
   "id": "d017e746",
   "metadata": {},
   "outputs": [],
   "source": [
    "from sys import argv\n",
    "from random import randint\n",
    "import moviepy.editor as mp"
   ]
  },
  {
   "cell_type": "code",
   "execution_count": 20,
   "id": "3e00c89d",
   "metadata": {},
   "outputs": [],
   "source": [
    "video = mp.VideoFileClip(\"JohnCena.mp4\")"
   ]
  },
  {
   "cell_type": "code",
   "execution_count": 21,
   "id": "b9770cae",
   "metadata": {},
   "outputs": [
    {
     "name": "stdout",
     "output_type": "stream",
     "text": [
      "MoviePy - Writing audio in 00009.mp3\n"
     ]
    },
    {
     "name": "stderr",
     "output_type": "stream",
     "text": [
      "                                                                               "
     ]
    },
    {
     "name": "stdout",
     "output_type": "stream",
     "text": [
      "MoviePy - Done.\n",
      "the audio file was saved as 00009.mp3 !\n"
     ]
    },
    {
     "name": "stderr",
     "output_type": "stream",
     "text": [
      "\r"
     ]
    }
   ],
   "source": [
    "random_name = str(randint(1, 10)).zfill(5)\n",
    "video.audio.write_audiofile(fr\"{random_name}.mp3\")\n",
    "print(f\"the audio was saved as {random_name}.mp3 !\")"
   ]
  },
  {
   "cell_type": "code",
   "execution_count": null,
   "id": "65b2b717",
   "metadata": {},
   "outputs": [],
   "source": []
  }
 ],
 "metadata": {
  "kernelspec": {
   "display_name": "Python 3 (ipykernel)",
   "language": "python",
   "name": "python3"
  },
  "language_info": {
   "codemirror_mode": {
    "name": "ipython",
    "version": 3
   },
   "file_extension": ".py",
   "mimetype": "text/x-python",
   "name": "python",
   "nbconvert_exporter": "python",
   "pygments_lexer": "ipython3",
   "version": "3.10.0"
  }
 },
 "nbformat": 4,
 "nbformat_minor": 5
}
